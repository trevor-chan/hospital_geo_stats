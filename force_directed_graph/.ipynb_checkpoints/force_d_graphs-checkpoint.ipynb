{
 "cells": [
  {
   "cell_type": "code",
   "execution_count": 197,
   "metadata": {},
   "outputs": [
    {
     "data": {
      "text/plain": [
       "{'divide': 'raise', 'over': 'raise', 'under': 'raise', 'invalid': 'raise'}"
      ]
     },
     "execution_count": 197,
     "metadata": {},
     "output_type": "execute_result"
    }
   ],
   "source": [
    "import sys\n",
    "import matplotlib.pyplot as plt\n",
    "import numpy as np\n",
    "import os\n",
    "\n",
    "import networkx as nx\n",
    "\n",
    "import pickle\n",
    "from PIL import Image, ImageDraw\n",
    "import matplotlib.lines as lines\n",
    "from mpl_toolkits import mplot3d\n",
    "from matplotlib.lines import Line2D\n",
    "\n",
    "from tqdm import tqdm\n",
    "import glob\n",
    "\n",
    "import statistics \n",
    "\n",
    "#For network adjacency checks\n",
    "from skimage.transform import rotate\n",
    "from sklearn.neighbors import KDTree\n",
    "from scipy.spatial import distance\n",
    "\n",
    "#For PCA\n",
    "import pandas as pd\n",
    "import seaborn as sns\n",
    "import json\n",
    "import re\n",
    "\n",
    "import warnings\n",
    "\n",
    "np.seterr(all='raise')"
   ]
  },
  {
   "cell_type": "code",
   "execution_count": 198,
   "metadata": {},
   "outputs": [],
   "source": [
    "# [type(i) for i in list(census_df['S2704_C03_001E'])]\n",
    "# list(census_df['S2704_C03_001E'])"
   ]
  },
  {
   "cell_type": "code",
   "execution_count": 199,
   "metadata": {},
   "outputs": [],
   "source": [
    "with open('census_data.json', 'rb') as f:\n",
    "    census_data = json.load(f)\n",
    "with open('cms_Data.json', 'rb') as pickle_file:\n",
    "    cms_data = json.load(pickle_file)\n",
    "    \n",
    "census_df = pd.DataFrame.from_dict(census_data['data'])\n",
    "census_df.columns = census_data['columns']\n",
    "census_df = census_df.replace('-', float('NaN'))\n",
    "census_df = census_df.drop(columns=['GEO_ID'])\n",
    "census_df = census_df.apply(pd.to_numeric)\n",
    "\n",
    "cms_df = pd.DataFrame.from_dict(cms_data)\n",
    "cms_df = cms_df.T\n",
    "cms_df = cms_df[['avg_medicare_payment','infection_ratio','emergency_wait_time',\n",
    "       'imaging_efficiency','mortality_30','revenue','total_discharges',\n",
    "       'revenue_per_discharge', ]]\n",
    "cms_df = cms_df.replace('none', float('NaN'))\n",
    "cms_df = cms_df.apply(pd.to_numeric)\n",
    "\n",
    "census_corr = census_df.corr()\n",
    "cms_corr = cms_df.corr()\n",
    "\n",
    "census_links = census_corr.stack().reset_index()\n",
    "census_links.columns = ['var1', 'var2', 'value']\n",
    "\n",
    "# Keep only correlation over a threshold and remove self correlation (cor(A,A)=1)\n",
    "census_links_filtered=census_links.loc[ (abs(census_links['value']) > 0.3) & (census_links['var1'] != census_links['var2']) ]\n",
    "census_links_filtered = census_links_filtered.drop_duplicates(subset=['value'])\n",
    "\n",
    "cms_links = cms_corr.stack().reset_index()\n",
    "cms_links.columns = ['var1', 'var2', 'value']\n",
    "\n",
    "# Keep only correlation over a threshold and remove self correlation (cor(A,A)=1)\n",
    "cms_links_filtered=cms_links.loc[ (abs(cms_links['value']) > 0.3) & (cms_links['var1'] != cms_links['var2']) ]\n",
    "cms_links_filtered = cms_links_filtered.drop_duplicates(subset=['value'])"
   ]
  },
  {
   "cell_type": "code",
   "execution_count": 200,
   "metadata": {},
   "outputs": [
    {
     "data": {
      "text/plain": [
       "27"
      ]
     },
     "execution_count": 200,
     "metadata": {},
     "output_type": "execute_result"
    }
   ],
   "source": [
    "len(census_links_filtered)"
   ]
  },
  {
   "cell_type": "code",
   "execution_count": 201,
   "metadata": {},
   "outputs": [
    {
     "data": {
      "text/plain": [
       "21"
      ]
     },
     "execution_count": 201,
     "metadata": {},
     "output_type": "execute_result"
    }
   ],
   "source": [
    "len(cms_links_filtered)"
   ]
  },
  {
   "cell_type": "code",
   "execution_count": 202,
   "metadata": {},
   "outputs": [],
   "source": [
    "# with open('cm_combined.data', 'rb') as pickle_file:\n",
    "#     cm = pickle.load(pickle_file)\n",
    "\n",
    "# corr = cm\n",
    "\n",
    "# links = corr.stack().reset_index()\n",
    "# links.columns = ['var1', 'var2', 'value']\n",
    "\n",
    "# # Keep only correlation over a threshold and remove self correlation (cor(A,A)=1)\n",
    "# links_filtered=links.loc[ (abs(links['value']) > 0.3) & (links['var1'] != links['var2']) ]\n",
    "\n",
    "# links_filtered = links_filtered.drop_duplicates(subset=['value'])\n"
   ]
  },
  {
   "cell_type": "code",
   "execution_count": 203,
   "metadata": {},
   "outputs": [],
   "source": [
    "# #Use for showing only 3D to 2D correlations\n",
    "\n",
    "# twod = ['ncompk', 'mdeg_l', 'dmdeg_l', 'mdeg_h', 'dmdeg_h', \n",
    "#                 'fdim0',  'cnumh', 'cnumk','circum_h','area_l', 'circum_l', 'areavar','circumvar','asravar', 'circ1', 'asra1', \n",
    "#                 'area_h', 'circ0', 'asra0', 'circvar',]\n",
    "# threed = ['protrusion_mean_len', 'protrusion_max_len','protrusion_num','discr_mean_dist', 'discr_max_dist', 'discr_mean_area', \n",
    "#       'discr_num','area', 'perimeter', 'aspect_ratio', 'roundness', 'circularity',]\n",
    "\n",
    "# pop_index = []\n",
    "# for index, row in links_filtered.iterrows():\n",
    "    \n",
    "#     if row['var1'] in twod:\n",
    "#         if row['var2'] in threed:\n",
    "#             continue\n",
    "#     if row['var1'] in threed:\n",
    "#         if row['var2'] in twod:\n",
    "#             continue\n",
    "#     pop_index.append(index)\n",
    "# links_filtered = links_filtered.drop(pop_index)"
   ]
  },
  {
   "cell_type": "code",
   "execution_count": 204,
   "metadata": {},
   "outputs": [],
   "source": [
    "census_unique_vars = pd.DataFrame(np.unique(census_corr.columns))\n",
    "cms_unique_vars = pd.DataFrame(np.unique(cms_corr.columns))"
   ]
  },
  {
   "cell_type": "code",
   "execution_count": 205,
   "metadata": {},
   "outputs": [],
   "source": [
    "# census_translate = {0: 'P1_001N', \t1:'P1_003N', \t2:'P1_004N', \t3:'P1_005N', \t4:'P1_006N', \t5:'P1_007N', \t6:'S1501_C01_015E', \t     \n",
    "#          7:'S1901_C01_012E', \t8:'S2701_C03_001E',9: 'S2703_C03_001E', \t10:'S2704_C03_001E',}\n",
    "\n",
    "census_translate = {'P1_001N':0, 'P1_003N':1, 'P1_004N':2, 'P1_005N':3, 'P1_006N':4, 'P1_007N':5, 'S1501_C01_015E':6,\n",
    "         'S1901_C01_012E':7, 'S2701_C03_001E':8, 'S2703_C03_001E':9, 'S2704_C03_001E':10,}\n",
    "\n",
    "# cms_translate = {0: 'avg_medicare_payment', \t1:'emergency_wait_time', \t2:'imaging_efficiency',\n",
    "#                  3:'infection_ratio', \t4:'mortality_30', \t5:'revenue', \t6:'revenue_per_discharge', \t     \n",
    "#          7:'total_discharges', }\n",
    "\n",
    "cms_translate = {'avg_medicare_payment':0, 'emergency_wait_time':1, 'imaging_efficiency':2,\n",
    "                 'infection_ratio':3, 'mortality_30':4, 'revenue':5, 'revenue_per_discharge':6,      \n",
    "         'total_discharges':7, }"
   ]
  },
  {
   "cell_type": "code",
   "execution_count": 206,
   "metadata": {},
   "outputs": [],
   "source": [
    "census_templinks = [{'source':link[0],'target':link[1],'value':link[2]} for link in census_links_filtered.to_numpy()]\n",
    "\n",
    "# for i in range(len(census_templinks)):\n",
    "#     census_templinks[i]['source'] = census_translate[census_templinks[i]['source']]\n",
    "\n",
    "census_links_list = []\n",
    "for link in census_templinks:\n",
    "#      unique_vars.index[unique_vars[0]=='solidity'].to_list()[0]\n",
    "    record = {\"value\":link['value'], \"source\": census_unique_vars.index[census_unique_vars[0]==link['source']].to_list()[0],\n",
    "             \"target\": census_unique_vars.index[census_unique_vars[0]==link['target']].to_list()[0]}\n",
    "    census_links_list.append(record)\n",
    "    \n",
    "    \n",
    "cms_templinks = [{'source':link[0],'target':link[1],'value':link[2]} for link in cms_links_filtered.to_numpy()]\n",
    "\n",
    "# for i in range(len(cms_templinks)):\n",
    "#     cms_templinks[i]['source'] = cms_translate[cms_templinks[i]['source']]\n",
    "\n",
    "cms_links_list = []\n",
    "for link in cms_templinks:\n",
    "#      unique_vars.index[unique_vars[0]=='solidity'].to_list()[0]\n",
    "    record = {\"value\":link['value'], \"source\": cms_unique_vars.index[cms_unique_vars[0]==link['source']].to_list()[0],\n",
    "             \"target\": cms_unique_vars.index[cms_unique_vars[0]==link['target']].to_list()[0]}\n",
    "    cms_links_list.append(record)"
   ]
  },
  {
   "cell_type": "code",
   "execution_count": 216,
   "metadata": {},
   "outputs": [],
   "source": [
    "census_translate = {'P1_001N':0, 'P1_003N':1, 'P1_004N':2, 'P1_005N':3, 'P1_006N':4, 'P1_007N':5, 'S1501_C01_015E':6,\n",
    "         'S1901_C01_012E':7, 'S2701_C03_001E':8, 'S2703_C03_001E':9, 'S2704_C03_001E':10,}\n",
    "\n",
    "cms_translate = {'avg_medicare_payment':0, 'emergency_wait_time':1, 'imaging_efficiency':2,\n",
    "                 'infection_ratio':3, 'mortality_30':4, 'revenue':5, 'revenue_per_discharge':6,      \n",
    "         'total_discharges':7, }\n",
    "\n",
    "\n",
    "#label colors and edges\n",
    "def grouper(var):\n",
    "    if var in ['S2701_C03_001E', 'S2703_C03_001E','S2704_C03_001E', #Health Insurance\n",
    "              'avg_medicare_payment']:\n",
    "        return '0'\n",
    "    elif var in ['P1_001N', 'P1_003N', 'P1_004N', 'P1_005N', 'P1_006N', 'P1_007N',  'P1_007N', #Race/Ethnicity\n",
    "                 'emergency_wait_time']: \n",
    "        return '1'\n",
    "    elif var in ['S1901_C01_012E', #Median Income\n",
    "                'imaging_efficiency']: \n",
    "        return '2'\n",
    "    elif var in ['S1501_C01_015E', #Education\n",
    "                'infection_ratio']: \n",
    "        return '3'\n",
    "    elif var in ['mortality_30']:\n",
    "        return '4'\n",
    "    elif var in ['revenue',]:\n",
    "        return '5'\n",
    "    elif var in ['revenue_per_discharge']:\n",
    "        return '6'\n",
    "    elif var in ['total_discharges']:\n",
    "        return '7'\n",
    "        \n",
    "\n",
    "census_nodes_list = []\n",
    "cms_nodes_list = []\n",
    "\n",
    "#change names\n",
    "\n",
    "for var in census_unique_vars.to_numpy():\n",
    "    census_nodes_list.append({'name':var[0],'group':grouper(var)})\n",
    "for var in cms_unique_vars.to_numpy():\n",
    "    cms_nodes_list.append({'name':var[0],'group':grouper(var)})"
   ]
  },
  {
   "cell_type": "code",
   "execution_count": 217,
   "metadata": {},
   "outputs": [],
   "source": [
    "census_nodes_list[0]['name'] = 'Total Population'\n",
    "census_nodes_list[1]['name'] = '% White (race)'\n",
    "census_nodes_list[2]['name'] = '% Black or AA (race)'\n",
    "census_nodes_list[3]['name'] = '% American Indian or Alaskan (race)'\n",
    "census_nodes_list[4]['name'] = '% Asian (race)'\n",
    "census_nodes_list[5]['name'] = '% Hawaiian or PI (race)'\n",
    "census_nodes_list[6]['name'] = 'Education (% BA,BS)'\n",
    "census_nodes_list[7]['name'] = 'Median Income'\n",
    "census_nodes_list[8]['name'] = 'Health Insurance (Total)'\n",
    "census_nodes_list[9]['name'] = 'Private Health Insurance'\n",
    "census_nodes_list[10]['name'] = 'Public Health Insurance'"
   ]
  },
  {
   "cell_type": "code",
   "execution_count": 218,
   "metadata": {},
   "outputs": [
    {
     "data": {
      "text/plain": [
       "[{'name': 'Total Population', 'group': '1'},\n",
       " {'name': '% White (race)', 'group': '1'},\n",
       " {'name': '% Black or AA (race)', 'group': '1'},\n",
       " {'name': '% American Indian or Alaskan (race)', 'group': '1'},\n",
       " {'name': '% Asian (race)', 'group': '1'},\n",
       " {'name': '% Hawaiian or PI (race)', 'group': '1'},\n",
       " {'name': 'Education (% BA,BS)', 'group': '3'},\n",
       " {'name': 'Median Income', 'group': '2'},\n",
       " {'name': 'Health Insurance (Total)', 'group': '0'},\n",
       " {'name': 'Private Health Insurance', 'group': '0'},\n",
       " {'name': 'Public Health Insurance', 'group': '0'}]"
      ]
     },
     "execution_count": 218,
     "metadata": {},
     "output_type": "execute_result"
    }
   ],
   "source": [
    "census_nodes_list"
   ]
  },
  {
   "cell_type": "code",
   "execution_count": 219,
   "metadata": {},
   "outputs": [
    {
     "data": {
      "text/plain": [
       "dict_keys(['links', 'nodes'])"
      ]
     },
     "execution_count": 219,
     "metadata": {},
     "output_type": "execute_result"
    }
   ],
   "source": [
    "census_json_prep = {\"links\":census_links_list, \"nodes\":census_nodes_list}\n",
    "cms_json_prep = {\"links\":cms_links_list, \"nodes\":cms_nodes_list}\n",
    "\n",
    "census_json_prep.keys()\n",
    "cms_json_prep.keys()"
   ]
  },
  {
   "cell_type": "code",
   "execution_count": 220,
   "metadata": {},
   "outputs": [],
   "source": [
    "census_json_dump = json.dumps(census_json_prep, indent=1, sort_keys=True)\n",
    "cms_json_dump = json.dumps(cms_json_prep, indent=1, sort_keys=True)"
   ]
  },
  {
   "cell_type": "code",
   "execution_count": 221,
   "metadata": {},
   "outputs": [],
   "source": [
    "filename_out = 'census_force_directed_graph_data.json'\n",
    "json_out = open(filename_out,'w')\n",
    "json_out.write(census_json_dump)\n",
    "json_out.close()\n",
    "\n",
    "filename_out = 'cms_force_directed_graph_data.json'\n",
    "json_out = open(filename_out,'w')\n",
    "json_out.write(cms_json_dump)\n",
    "json_out.close()"
   ]
  },
  {
   "cell_type": "code",
   "execution_count": null,
   "metadata": {},
   "outputs": [],
   "source": []
  },
  {
   "cell_type": "code",
   "execution_count": null,
   "metadata": {},
   "outputs": [],
   "source": []
  }
 ],
 "metadata": {
  "kernelspec": {
   "display_name": "Python 3",
   "language": "python",
   "name": "python3"
  },
  "language_info": {
   "codemirror_mode": {
    "name": "ipython",
    "version": 3
   },
   "file_extension": ".py",
   "mimetype": "text/x-python",
   "name": "python",
   "nbconvert_exporter": "python",
   "pygments_lexer": "ipython3",
   "version": "3.7.7"
  }
 },
 "nbformat": 4,
 "nbformat_minor": 4
}
